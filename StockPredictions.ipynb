{
  "nbformat": 4,
  "nbformat_minor": 0,
  "metadata": {
    "colab": {
      "provenance": [],
      "authorship_tag": "ABX9TyPnzUapccigSMp0NyWKHWrL",
      "include_colab_link": true
    },
    "kernelspec": {
      "name": "python3",
      "display_name": "Python 3"
    },
    "language_info": {
      "name": "python"
    }
  },
  "cells": [
    {
      "cell_type": "markdown",
      "metadata": {
        "id": "view-in-github",
        "colab_type": "text"
      },
      "source": [
        "<a href=\"https://colab.research.google.com/github/noraleilaa/PersonalProjects/blob/main/StockPredictions.ipynb\" target=\"_parent\"><img src=\"https://colab.research.google.com/assets/colab-badge.svg\" alt=\"Open In Colab\"/></a>"
      ]
    },
    {
      "cell_type": "markdown",
      "source": [
        "# Assignment_9 Bonus\n",
        "This week, you will download 5 years of daily adjusted closing prices for the Standard & Poor’s 500 index from finance.yahoo.com. You will build RNN models with the first 80% of the data and forecast the last 20%. It is important that you split the data in such a way that the withhold set is the last portion of the dataset.\n",
        "\n",
        "Requirements\n",
        "\n",
        "-- Conduct your analysis using the specified 80 / 20 split.\n",
        "\n",
        "-- Conduct EDA.\n",
        "\n",
        "-- Build at least three RNN models based on hyperparameter tuning.\n",
        "\n",
        "-- Evaluate goodness of fit metrics.\n",
        "\n",
        "-- Discuss your model’s performance."
      ],
      "metadata": {
        "id": "WKkD9m2dcCR2"
      }
    },
    {
      "cell_type": "code",
      "execution_count": 1,
      "metadata": {
        "id": "SZ-_-c1RWKUE",
        "colab": {
          "base_uri": "https://localhost:8080/",
          "height": 92
        },
        "outputId": "720061c7-f733-418a-bbd0-909b8f564d14"
      },
      "outputs": [
        {
          "output_type": "stream",
          "name": "stdout",
          "text": [
            "Mounted at /content/drive\n"
          ]
        },
        {
          "output_type": "display_data",
          "data": {
            "text/plain": [
              "<IPython.core.display.HTML object>"
            ],
            "text/html": [
              "\n",
              "     <input type=\"file\" id=\"files-2e37768c-586f-4f5f-b2d8-69f68e6af245\" name=\"files[]\" multiple disabled\n",
              "        style=\"border:none\" />\n",
              "     <output id=\"result-2e37768c-586f-4f5f-b2d8-69f68e6af245\">\n",
              "      Upload widget is only available when the cell has been executed in the\n",
              "      current browser session. Please rerun this cell to enable.\n",
              "      </output>\n",
              "      <script>// Copyright 2017 Google LLC\n",
              "//\n",
              "// Licensed under the Apache License, Version 2.0 (the \"License\");\n",
              "// you may not use this file except in compliance with the License.\n",
              "// You may obtain a copy of the License at\n",
              "//\n",
              "//      http://www.apache.org/licenses/LICENSE-2.0\n",
              "//\n",
              "// Unless required by applicable law or agreed to in writing, software\n",
              "// distributed under the License is distributed on an \"AS IS\" BASIS,\n",
              "// WITHOUT WARRANTIES OR CONDITIONS OF ANY KIND, either express or implied.\n",
              "// See the License for the specific language governing permissions and\n",
              "// limitations under the License.\n",
              "\n",
              "/**\n",
              " * @fileoverview Helpers for google.colab Python module.\n",
              " */\n",
              "(function(scope) {\n",
              "function span(text, styleAttributes = {}) {\n",
              "  const element = document.createElement('span');\n",
              "  element.textContent = text;\n",
              "  for (const key of Object.keys(styleAttributes)) {\n",
              "    element.style[key] = styleAttributes[key];\n",
              "  }\n",
              "  return element;\n",
              "}\n",
              "\n",
              "// Max number of bytes which will be uploaded at a time.\n",
              "const MAX_PAYLOAD_SIZE = 100 * 1024;\n",
              "\n",
              "function _uploadFiles(inputId, outputId) {\n",
              "  const steps = uploadFilesStep(inputId, outputId);\n",
              "  const outputElement = document.getElementById(outputId);\n",
              "  // Cache steps on the outputElement to make it available for the next call\n",
              "  // to uploadFilesContinue from Python.\n",
              "  outputElement.steps = steps;\n",
              "\n",
              "  return _uploadFilesContinue(outputId);\n",
              "}\n",
              "\n",
              "// This is roughly an async generator (not supported in the browser yet),\n",
              "// where there are multiple asynchronous steps and the Python side is going\n",
              "// to poll for completion of each step.\n",
              "// This uses a Promise to block the python side on completion of each step,\n",
              "// then passes the result of the previous step as the input to the next step.\n",
              "function _uploadFilesContinue(outputId) {\n",
              "  const outputElement = document.getElementById(outputId);\n",
              "  const steps = outputElement.steps;\n",
              "\n",
              "  const next = steps.next(outputElement.lastPromiseValue);\n",
              "  return Promise.resolve(next.value.promise).then((value) => {\n",
              "    // Cache the last promise value to make it available to the next\n",
              "    // step of the generator.\n",
              "    outputElement.lastPromiseValue = value;\n",
              "    return next.value.response;\n",
              "  });\n",
              "}\n",
              "\n",
              "/**\n",
              " * Generator function which is called between each async step of the upload\n",
              " * process.\n",
              " * @param {string} inputId Element ID of the input file picker element.\n",
              " * @param {string} outputId Element ID of the output display.\n",
              " * @return {!Iterable<!Object>} Iterable of next steps.\n",
              " */\n",
              "function* uploadFilesStep(inputId, outputId) {\n",
              "  const inputElement = document.getElementById(inputId);\n",
              "  inputElement.disabled = false;\n",
              "\n",
              "  const outputElement = document.getElementById(outputId);\n",
              "  outputElement.innerHTML = '';\n",
              "\n",
              "  const pickedPromise = new Promise((resolve) => {\n",
              "    inputElement.addEventListener('change', (e) => {\n",
              "      resolve(e.target.files);\n",
              "    });\n",
              "  });\n",
              "\n",
              "  const cancel = document.createElement('button');\n",
              "  inputElement.parentElement.appendChild(cancel);\n",
              "  cancel.textContent = 'Cancel upload';\n",
              "  const cancelPromise = new Promise((resolve) => {\n",
              "    cancel.onclick = () => {\n",
              "      resolve(null);\n",
              "    };\n",
              "  });\n",
              "\n",
              "  // Wait for the user to pick the files.\n",
              "  const files = yield {\n",
              "    promise: Promise.race([pickedPromise, cancelPromise]),\n",
              "    response: {\n",
              "      action: 'starting',\n",
              "    }\n",
              "  };\n",
              "\n",
              "  cancel.remove();\n",
              "\n",
              "  // Disable the input element since further picks are not allowed.\n",
              "  inputElement.disabled = true;\n",
              "\n",
              "  if (!files) {\n",
              "    return {\n",
              "      response: {\n",
              "        action: 'complete',\n",
              "      }\n",
              "    };\n",
              "  }\n",
              "\n",
              "  for (const file of files) {\n",
              "    const li = document.createElement('li');\n",
              "    li.append(span(file.name, {fontWeight: 'bold'}));\n",
              "    li.append(span(\n",
              "        `(${file.type || 'n/a'}) - ${file.size} bytes, ` +\n",
              "        `last modified: ${\n",
              "            file.lastModifiedDate ? file.lastModifiedDate.toLocaleDateString() :\n",
              "                                    'n/a'} - `));\n",
              "    const percent = span('0% done');\n",
              "    li.appendChild(percent);\n",
              "\n",
              "    outputElement.appendChild(li);\n",
              "\n",
              "    const fileDataPromise = new Promise((resolve) => {\n",
              "      const reader = new FileReader();\n",
              "      reader.onload = (e) => {\n",
              "        resolve(e.target.result);\n",
              "      };\n",
              "      reader.readAsArrayBuffer(file);\n",
              "    });\n",
              "    // Wait for the data to be ready.\n",
              "    let fileData = yield {\n",
              "      promise: fileDataPromise,\n",
              "      response: {\n",
              "        action: 'continue',\n",
              "      }\n",
              "    };\n",
              "\n",
              "    // Use a chunked sending to avoid message size limits. See b/62115660.\n",
              "    let position = 0;\n",
              "    do {\n",
              "      const length = Math.min(fileData.byteLength - position, MAX_PAYLOAD_SIZE);\n",
              "      const chunk = new Uint8Array(fileData, position, length);\n",
              "      position += length;\n",
              "\n",
              "      const base64 = btoa(String.fromCharCode.apply(null, chunk));\n",
              "      yield {\n",
              "        response: {\n",
              "          action: 'append',\n",
              "          file: file.name,\n",
              "          data: base64,\n",
              "        },\n",
              "      };\n",
              "\n",
              "      let percentDone = fileData.byteLength === 0 ?\n",
              "          100 :\n",
              "          Math.round((position / fileData.byteLength) * 100);\n",
              "      percent.textContent = `${percentDone}% done`;\n",
              "\n",
              "    } while (position < fileData.byteLength);\n",
              "  }\n",
              "\n",
              "  // All done.\n",
              "  yield {\n",
              "    response: {\n",
              "      action: 'complete',\n",
              "    }\n",
              "  };\n",
              "}\n",
              "\n",
              "scope.google = scope.google || {};\n",
              "scope.google.colab = scope.google.colab || {};\n",
              "scope.google.colab._files = {\n",
              "  _uploadFiles,\n",
              "  _uploadFilesContinue,\n",
              "};\n",
              "})(self);\n",
              "</script> "
            ]
          },
          "metadata": {}
        },
        {
          "output_type": "stream",
          "name": "stdout",
          "text": [
            "Saving ^SPX.csv to ^SPX.csv\n"
          ]
        }
      ],
      "source": [
        "import pandas as pd\n",
        "from google.colab import drive\n",
        "\n",
        "drive.mount('/content/drive')\n",
        "\n",
        "# Read the train and test data\n",
        "from google.colab import files\n",
        "uploaded = files.upload()\n",
        "\n",
        "\n",
        "sandp = pd.read_csv('^SPX.csv')"
      ]
    },
    {
      "cell_type": "code",
      "source": [
        "sandp[\"Date\"] = pd.to_datetime(sandp[\"Date\"])\n",
        "sandp[\"Timestamp\"] = sandp[\"Date\"].apply(lambda x: x.timestamp())\n",
        "\n",
        "\n",
        "sandp.drop(columns=[\"Date\"], inplace=True)\n"
      ],
      "metadata": {
        "id": "XS9aAyaNnP2I"
      },
      "execution_count": 2,
      "outputs": []
    },
    {
      "cell_type": "code",
      "source": [
        "from sklearn.model_selection import train_test_split\n",
        "import matplotlib.pyplot as plt\n",
        "\n",
        "import numpy as np\n",
        "import tensorflow as tf\n",
        "import keras\n",
        "from keras import layers\n",
        "from keras.models import Sequential\n",
        "from keras.layers import SimpleRNN, Dense\n",
        "from sklearn.preprocessing import MinMaxScaler\n",
        "\n"
      ],
      "metadata": {
        "id": "L8BbesvMgvsq"
      },
      "execution_count": 3,
      "outputs": []
    },
    {
      "cell_type": "code",
      "source": [
        "import pandas as pd\n",
        "from sklearn.model_selection import train_test_split\n",
        "\n",
        "X = sandp.drop(columns=['Volume'])  # Features\n",
        "y = sandp['Volume']  # Labels\n",
        "\n",
        "X_train, X_test, y_train, y_test = train_test_split(X, y, test_size=0.2, random_state=42)"
      ],
      "metadata": {
        "id": "qzlMrPOg8kKr"
      },
      "execution_count": 4,
      "outputs": []
    },
    {
      "cell_type": "code",
      "source": [],
      "metadata": {
        "id": "Y7kHgxyg8kF-"
      },
      "execution_count": null,
      "outputs": []
    },
    {
      "cell_type": "code",
      "source": [],
      "metadata": {
        "id": "eJmDLgZl8kAe"
      },
      "execution_count": null,
      "outputs": []
    },
    {
      "cell_type": "code",
      "source": [],
      "metadata": {
        "id": "RnGtDj8k8j5T"
      },
      "execution_count": null,
      "outputs": []
    },
    {
      "cell_type": "code",
      "source": [],
      "metadata": {
        "id": "upo-P1dp8jwt"
      },
      "execution_count": null,
      "outputs": []
    },
    {
      "cell_type": "code",
      "source": [],
      "metadata": {
        "id": "_K6T2NK_8jpC"
      },
      "execution_count": null,
      "outputs": []
    },
    {
      "cell_type": "code",
      "source": [],
      "metadata": {
        "id": "iyXjFCDG8jYc"
      },
      "execution_count": null,
      "outputs": []
    },
    {
      "cell_type": "code",
      "source": [],
      "metadata": {
        "id": "Vwef42OBhB72"
      },
      "execution_count": null,
      "outputs": []
    },
    {
      "cell_type": "code",
      "source": [
        "X_train.info()"
      ],
      "metadata": {
        "colab": {
          "base_uri": "https://localhost:8080/"
        },
        "id": "fNHIVz2kRHWm",
        "outputId": "5ed40b76-ee3d-4b9e-f332-8ef4d2e829be"
      },
      "execution_count": 5,
      "outputs": [
        {
          "output_type": "stream",
          "name": "stdout",
          "text": [
            "<class 'pandas.core.frame.DataFrame'>\n",
            "Int64Index: 1006 entries, 1200 to 1126\n",
            "Data columns (total 6 columns):\n",
            " #   Column     Non-Null Count  Dtype  \n",
            "---  ------     --------------  -----  \n",
            " 0   Open       1006 non-null   float64\n",
            " 1   High       1006 non-null   float64\n",
            " 2   Low        1006 non-null   float64\n",
            " 3   Close      1006 non-null   float64\n",
            " 4   Adj Close  1006 non-null   float64\n",
            " 5   Timestamp  1006 non-null   float64\n",
            "dtypes: float64(6)\n",
            "memory usage: 55.0 KB\n"
          ]
        }
      ]
    },
    {
      "cell_type": "code",
      "source": [],
      "metadata": {
        "id": "fevlw2d3Q7AO"
      },
      "execution_count": null,
      "outputs": []
    },
    {
      "cell_type": "code",
      "source": [],
      "metadata": {
        "id": "fNUWSiVOjY0u"
      },
      "execution_count": null,
      "outputs": []
    },
    {
      "cell_type": "code",
      "source": [
        "X_test.info()"
      ],
      "metadata": {
        "colab": {
          "base_uri": "https://localhost:8080/"
        },
        "id": "BLQcr40HQ6zb",
        "outputId": "889c3786-f8cd-4373-99db-6a578cd67cb2"
      },
      "execution_count": 6,
      "outputs": [
        {
          "output_type": "stream",
          "name": "stdout",
          "text": [
            "<class 'pandas.core.frame.DataFrame'>\n",
            "Int64Index: 252 entries, 561 to 834\n",
            "Data columns (total 6 columns):\n",
            " #   Column     Non-Null Count  Dtype  \n",
            "---  ------     --------------  -----  \n",
            " 0   Open       252 non-null    float64\n",
            " 1   High       252 non-null    float64\n",
            " 2   Low        252 non-null    float64\n",
            " 3   Close      252 non-null    float64\n",
            " 4   Adj Close  252 non-null    float64\n",
            " 5   Timestamp  252 non-null    float64\n",
            "dtypes: float64(6)\n",
            "memory usage: 13.8 KB\n"
          ]
        }
      ]
    },
    {
      "cell_type": "code",
      "source": [],
      "metadata": {
        "id": "MyVQLMtlQ6gD"
      },
      "execution_count": null,
      "outputs": []
    },
    {
      "cell_type": "markdown",
      "source": [],
      "metadata": {
        "id": "KSDHPskciGkv"
      }
    },
    {
      "cell_type": "code",
      "source": [
        "print(sandp.head())\n",
        "\n",
        "columns_to_plot = ['Open', 'High', 'Low', 'Close']\n",
        "\n",
        "for column in columns_to_plot:\n",
        "    sandp[column].plot(label=column)\n",
        "\n",
        "plt.legend()\n",
        "plt.show()"
      ],
      "metadata": {
        "colab": {
          "base_uri": "https://localhost:8080/",
          "height": 662
        },
        "id": "K0AZkJQJgv4p",
        "outputId": "4da45501-64f9-4ed5-fd69-30db5a3edee5"
      },
      "execution_count": 7,
      "outputs": [
        {
          "output_type": "stream",
          "name": "stdout",
          "text": [
            "          Open         High          Low        Close    Adj Close  \\\n",
            "0  2861.510010  2873.229980  2861.320068  2862.959961  2862.959961   \n",
            "1  2860.989990  2867.540039  2856.050049  2861.820068  2861.820068   \n",
            "2  2860.290039  2868.780029  2854.030029  2856.979980  2856.979980   \n",
            "3  2862.350098  2876.159912  2862.350098  2874.689941  2874.689941   \n",
            "4  2884.689941  2898.250000  2884.689941  2896.739990  2896.739990   \n",
            "\n",
            "       Volume     Timestamp  \n",
            "0  3174010000  1.534810e+09  \n",
            "1  2701250000  1.534896e+09  \n",
            "2  2724450000  1.534982e+09  \n",
            "3  2603010000  1.535069e+09  \n",
            "4  2865070000  1.535328e+09  \n"
          ]
        },
        {
          "output_type": "display_data",
          "data": {
            "text/plain": [
              "<Figure size 640x480 with 1 Axes>"
            ],
            "image/png": "[encoded data removed]"
          },
          "metadata": {}
        }
      ]
    },
    {
      "cell_type": "code",
      "source": [
        "fig, axes = plt.subplots(nrows=1, ncols=len(columns_to_plot), figsize=(15, 5))\n",
        "\n",
        "for i, column in enumerate(columns_to_plot):\n",
        "    sandp[column].plot(ax=axes[i])\n",
        "    axes[i].set_title(column)\n",
        "\n",
        "plt.tight_layout()  # Adjust spacing between subplots\n",
        "plt.show()"
      ],
      "metadata": {
        "colab": {
          "base_uri": "https://localhost:8080/",
          "height": 469
        },
        "id": "kezu0yyVgv_-",
        "outputId": "8275b5cb-2745-47f6-8fcd-e4bd49a62958"
      },
      "execution_count": 8,
      "outputs": [
        {
          "output_type": "display_data",
          "data": {
            "text/plain": [
              "<Figure size 1500x500 with 4 Axes>"
            ],
            "image/png": "[encoded data removed]"
          },
          "metadata": {}
        }
      ]
    },
    {
      "cell_type": "code",
      "source": [],
      "metadata": {
        "id": "TQfjqNxa18pj"
      },
      "execution_count": null,
      "outputs": []
    },
    {
      "cell_type": "code",
      "source": [
        "float_columns = ['Open', 'High', 'Low', 'Close', 'Adj Close']\n",
        "X_train[float_columns] = X_train[float_columns].astype(np.float32)\n"
      ],
      "metadata": {
        "id": "Th2CRITqAl5E"
      },
      "execution_count": 9,
      "outputs": []
    },
    {
      "cell_type": "code",
      "source": [
        "print(\"X_train shape:\", X_train.shape)\n",
        "print(\"X_test shape:\", X_test.shape)\n"
      ],
      "metadata": {
        "colab": {
          "base_uri": "https://localhost:8080/"
        },
        "id": "gHgBleDnCeYh",
        "outputId": "06638dd9-a377-4b30-834f-6c3a580a4b26"
      },
      "execution_count": 10,
      "outputs": [
        {
          "output_type": "stream",
          "name": "stdout",
          "text": [
            "X_train shape: (1006, 6)\n",
            "X_test shape: (252, 6)\n"
          ]
        }
      ]
    },
    {
      "cell_type": "markdown",
      "source": [
        "# Method 1-- Sequential (Classic)"
      ],
      "metadata": {
        "id": "jG1rvZXGMd5t"
      }
    },
    {
      "cell_type": "code",
      "source": [
        "import numpy as np\n",
        "import tensorflow as tf\n",
        "from keras.models import Sequential\n",
        "from keras.layers import LSTM, Dense\n",
        "import tensorflow as tf\n",
        "from keras.models import Sequential\n",
        "from keras.layers import LSTM, Dense\n",
        "\n",
        "model = Sequential()\n",
        "model.add(LSTM(128, return_sequences=True, input_shape= (X_train.shape[1], 1)))\n",
        "model.add(LSTM(64, return_sequences=False))\n",
        "model.add(Dense(25))\n",
        "model.add(Dense(1))\n",
        "\n",
        "# Compile the model\n",
        "model.compile(optimizer='adam', loss='mean_squared_error')\n",
        "\n",
        "# Train the model\n",
        "model.fit(X_train, y_train, batch_size=1, epochs=1)"
      ],
      "metadata": {
        "id": "1tKMGS84-fW1",
        "colab": {
          "base_uri": "https://localhost:8080/"
        },
        "outputId": "bf4d98e3-9869-4e44-d232-e158bc8475a4"
      },
      "execution_count": 11,
      "outputs": [
        {
          "output_type": "stream",
          "name": "stdout",
          "text": [
            "1006/1006 [==============================] - 17s 13ms/step - loss: 19900124722792235008.0000\n"
          ]
        },
        {
          "output_type": "execute_result",
          "data": {
            "text/plain": [
              "<keras.src.callbacks.History at 0x79d57af37430>"
            ]
          },
          "metadata": {},
          "execution_count": 11
        }
      ]
    },
    {
      "cell_type": "code",
      "source": [
        "predictions = model.predict(X_train)\n",
        "\n",
        "predictions_df = pd.DataFrame(predictions)\n",
        "predictions_df.to_csv('Assignment_9_predictions.csv')"
      ],
      "metadata": {
        "id": "TigV1ecHdLt_",
        "colab": {
          "base_uri": "https://localhost:8080/"
        },
        "outputId": "dda8ec37-c3ce-4e76-a939-d45ed17e7af9"
      },
      "execution_count": 12,
      "outputs": [
        {
          "output_type": "stream",
          "name": "stdout",
          "text": [
            "32/32 [==============================] - 2s 10ms/step\n"
          ]
        }
      ]
    },
    {
      "cell_type": "code",
      "source": [
        "model.summary()"
      ],
      "metadata": {
        "colab": {
          "base_uri": "https://localhost:8080/"
        },
        "id": "K1oncOWa7OLf",
        "outputId": "bad01346-bbcf-4428-f796-1ee9210deda0"
      },
      "execution_count": 13,
      "outputs": [
        {
          "output_type": "stream",
          "name": "stdout",
          "text": [
            "Model: \"sequential\"\n",
            "_________________________________________________________________\n",
            " Layer (type)                Output Shape              Param #   \n",
            "=================================================================\n",
            " lstm (LSTM)                 (None, 6, 128)            66560     \n",
            "                                                                 \n",
            " lstm_1 (LSTM)               (None, 64)                49408     \n",
            "                                                                 \n",
            " dense (Dense)               (None, 25)                1625      \n",
            "                                                                 \n",
            " dense_1 (Dense)             (None, 1)                 26        \n",
            "                                                                 \n",
            "=================================================================\n",
            "Total params: 117619 (459.45 KB)\n",
            "Trainable params: 117619 (459.45 KB)\n",
            "Non-trainable params: 0 (0.00 Byte)\n",
            "_________________________________________________________________\n"
          ]
        }
      ]
    },
    {
      "cell_type": "code",
      "source": [
        "sc = MinMaxScaler(feature_range=(0,1))\n",
        "training_set_scaled = sc.fit_transform(X_train)\n",
        "\n",
        "\n",
        "predictions_reshaped = np.zeros((252, 6))\n",
        "\n",
        "# Now you can use predictions_reshaped for inverse transformation\n",
        "predicted_stock_price = sc.inverse_transform(predictions_reshaped)"
      ],
      "metadata": {
        "id": "i_TQaPDhl0vX"
      },
      "execution_count": 16,
      "outputs": []
    },
    {
      "cell_type": "code",
      "source": [
        "predicted_stock_price_df = pd.DataFrame(predicted_stock_price)\n",
        "\n",
        "# Display the first few rows of the DataFr\n",
        "predicted_stock_price_df.head()"
      ],
      "metadata": {
        "colab": {
          "base_uri": "https://localhost:8080/",
          "height": 206
        },
        "id": "80yTFJj0QMH4",
        "outputId": "f1348fdd-e8ff-44be-dd48-b89d195f3abc"
      },
      "execution_count": 17,
      "outputs": [
        {
          "output_type": "execute_result",
          "data": {
            "text/plain": [
              "             0            1           2            3            4  \\\n",
              "0  2344.439941  2449.709961  2280.52002  2304.919922  2304.919922   \n",
              "1  2344.439941  2449.709961  2280.52002  2304.919922  2304.919922   \n",
              "2  2344.439941  2449.709961  2280.52002  2304.919922  2304.919922   \n",
              "3  2344.439941  2449.709961  2280.52002  2304.919922  2304.919922   \n",
              "4  2344.439941  2449.709961  2280.52002  2304.919922  2304.919922   \n",
              "\n",
              "              5  \n",
              "0  1.534810e+09  \n",
              "1  1.534810e+09  \n",
              "2  1.534810e+09  \n",
              "3  1.534810e+09  \n",
              "4  1.534810e+09  "
            ],
            "text/html": [
              "\n",
              "  <div id=\"df-b1880975-bdbc-4dce-abd5-677510a10c87\" class=\"colab-df-container\">\n",
              "    <div>\n",
              "<style scoped>\n",
              "    .dataframe tbody tr th:only-of-type {\n",
              "        vertical-align: middle;\n",
              "    }\n",
              "\n",
              "    .dataframe tbody tr th {\n",
              "        vertical-align: top;\n",
              "    }\n",
              "\n",
              "    .dataframe thead th {\n",
              "        text-align: right;\n",
              "    }\n",
              "</style>\n",
              "<table border=\"1\" class=\"dataframe\">\n",
              "  <thead>\n",
              "    <tr style=\"text-align: right;\">\n",
              "      <th></th>\n",
              "      <th>0</th>\n",
              "      <th>1</th>\n",
              "      <th>2</th>\n",
              "      <th>3</th>\n",
              "      <th>4</th>\n",
              "      <th>5</th>\n",
              "    </tr>\n",
              "  </thead>\n",
              "  <tbody>\n",
              "    <tr>\n",
              "      <th>0</th>\n",
              "      <td>2344.439941</td>\n",
              "      <td>2449.709961</td>\n",
              "      <td>2280.52002</td>\n",
              "      <td>2304.919922</td>\n",
              "      <td>2304.919922</td>\n",
              "      <td>1.534810e+09</td>\n",
              "    </tr>\n",
              "    <tr>\n",
              "      <th>1</th>\n",
              "      <td>2344.439941</td>\n",
              "      <td>2449.709961</td>\n",
              "      <td>2280.52002</td>\n",
              "      <td>2304.919922</td>\n",
              "      <td>2304.919922</td>\n",
              "      <td>1.534810e+09</td>\n",
              "    </tr>\n",
              "    <tr>\n",
              "      <th>2</th>\n",
              "      <td>2344.439941</td>\n",
              "      <td>2449.709961</td>\n",
              "      <td>2280.52002</td>\n",
              "      <td>2304.919922</td>\n",
              "      <td>2304.919922</td>\n",
              "      <td>1.534810e+09</td>\n",
              "    </tr>\n",
              "    <tr>\n",
              "      <th>3</th>\n",
              "      <td>2344.439941</td>\n",
              "      <td>2449.709961</td>\n",
              "      <td>2280.52002</td>\n",
              "      <td>2304.919922</td>\n",
              "      <td>2304.919922</td>\n",
              "      <td>1.534810e+09</td>\n",
              "    </tr>\n",
              "    <tr>\n",
              "      <th>4</th>\n",
              "      <td>2344.439941</td>\n",
              "      <td>2449.709961</td>\n",
              "      <td>2280.52002</td>\n",
              "      <td>2304.919922</td>\n",
              "      <td>2304.919922</td>\n",
              "      <td>1.534810e+09</td>\n",
              "    </tr>\n",
              "  </tbody>\n",
              "</table>\n",
              "</div>\n",
              "    <div class=\"colab-df-buttons\">\n",
              "\n",
              "  <div class=\"colab-df-container\">\n",
              "    <button class=\"colab-df-convert\" onclick=\"convertToInteractive('df-b1880975-bdbc-4dce-abd5-677510a10c87')\"\n",
              "            title=\"Convert this dataframe to an interactive table.\"\n",
              "            style=\"display:none;\">\n",
              "\n",
              "  <svg xmlns=\"http://www.w3.org/2000/svg\" height=\"24px\" viewBox=\"0 -960 960 960\">\n",
              "    <path d=\"M120-120v-720h720v720H120Zm60-500h600v-160H180v160Zm220 220h160v-160H400v160Zm0 220h160v-160H400v160ZM180-400h160v-160H180v160Zm440 0h160v-160H620v160ZM180-180h160v-160H180v160Zm440 0h160v-160H620v160Z\"/>\n",
              "  </svg>\n",
              "    </button>\n",
              "\n",
              "  <style>\n",
              "    .colab-df-container {\n",
              "      display:flex;\n",
              "      gap: 12px;\n",
              "    }\n",
              "\n",
              "    .colab-df-convert {\n",
              "      background-color: #E8F0FE;\n",
              "      border: none;\n",
              "      border-radius: 50%;\n",
              "      cursor: pointer;\n",
              "      display: none;\n",
              "      fill: #1967D2;\n",
              "      height: 32px;\n",
              "      padding: 0 0 0 0;\n",
              "      width: 32px;\n",
              "    }\n",
              "\n",
              "    .colab-df-convert:hover {\n",
              "      background-color: #E2EBFA;\n",
              "      box-shadow: 0px 1px 2px rgba(60, 64, 67, 0.3), 0px 1px 3px 1px rgba(60, 64, 67, 0.15);\n",
              "      fill: #174EA6;\n",
              "    }\n",
              "\n",
              "    .colab-df-buttons div {\n",
              "      margin-bottom: 4px;\n",
              "    }\n",
              "\n",
              "    [theme=dark] .colab-df-convert {\n",
              "      background-color: #3B4455;\n",
              "      fill: #D2E3FC;\n",
              "    }\n",
              "\n",
              "    [theme=dark] .colab-df-convert:hover {\n",
              "      background-color: #434B5C;\n",
              "      box-shadow: 0px 1px 3px 1px rgba(0, 0, 0, 0.15);\n",
              "      filter: drop-shadow(0px 1px 2px rgba(0, 0, 0, 0.3));\n",
              "      fill: #FFFFFF;\n",
              "    }\n",
              "  </style>\n",
              "\n",
              "    <script>\n",
              "      const buttonEl =\n",
              "        document.querySelector('#df-b1880975-bdbc-4dce-abd5-677510a10c87 button.colab-df-convert');\n",
              "      buttonEl.style.display =\n",
              "        google.colab.kernel.accessAllowed ? 'block' : 'none';\n",
              "\n",
              "      async function convertToInteractive(key) {\n",
              "        const element = document.querySelector('#df-b1880975-bdbc-4dce-abd5-677510a10c87');\n",
              "        const dataTable =\n",
              "          await google.colab.kernel.invokeFunction('convertToInteractive',\n",
              "                                                    [key], {});\n",
              "        if (!dataTable) return;\n",
              "\n",
              "        const docLinkHtml = 'Like what you see? Visit the ' +\n",
              "          '<a target=\"_blank\" href=https://colab.research.google.com/notebooks/data_table.ipynb>data table notebook</a>'\n",
              "          + ' to learn more about interactive tables.';\n",
              "        element.innerHTML = '';\n",
              "        dataTable['output_type'] = 'display_data';\n",
              "        await google.colab.output.renderOutput(dataTable, element);\n",
              "        const docLink = document.createElement('div');\n",
              "        docLink.innerHTML = docLinkHtml;\n",
              "        element.appendChild(docLink);\n",
              "      }\n",
              "    </script>\n",
              "  </div>\n",
              "\n",
              "\n",
              "<div id=\"df-43bdc799-6ae3-4337-b9cc-e7e2a7d929af\">\n",
              "  <button class=\"colab-df-quickchart\" onclick=\"quickchart('df-43bdc799-6ae3-4337-b9cc-e7e2a7d929af')\"\n",
              "            title=\"Suggest charts.\"\n",
              "            style=\"display:none;\">\n",
              "\n",
              "<svg xmlns=\"http://www.w3.org/2000/svg\" height=\"24px\"viewBox=\"0 0 24 24\"\n",
              "     width=\"24px\">\n",
              "    <g>\n",
              "        <path d=\"M19 3H5c-1.1 0-2 .9-2 2v14c0 1.1.9 2 2 2h14c1.1 0 2-.9 2-2V5c0-1.1-.9-2-2-2zM9 17H7v-7h2v7zm4 0h-2V7h2v10zm4 0h-2v-4h2v4z\"/>\n",
              "    </g>\n",
              "</svg>\n",
              "  </button>\n",
              "\n",
              "<style>\n",
              "  .colab-df-quickchart {\n",
              "      --bg-color: #E8F0FE;\n",
              "      --fill-color: #1967D2;\n",
              "      --hover-bg-color: #E2EBFA;\n",
              "      --hover-fill-color: #174EA6;\n",
              "      --disabled-fill-color: #AAA;\n",
              "      --disabled-bg-color: #DDD;\n",
              "  }\n",
              "\n",
              "  [theme=dark] .colab-df-quickchart {\n",
              "      --bg-color: #3B4455;\n",
              "      --fill-color: #D2E3FC;\n",
              "      --hover-bg-color: #434B5C;\n",
              "      --hover-fill-color: #FFFFFF;\n",
              "      --disabled-bg-color: #3B4455;\n",
              "      --disabled-fill-color: #666;\n",
              "  }\n",
              "\n",
              "  .colab-df-quickchart {\n",
              "    background-color: var(--bg-color);\n",
              "    border: none;\n",
              "    border-radius: 50%;\n",
              "    cursor: pointer;\n",
              "    display: none;\n",
              "    fill: var(--fill-color);\n",
              "    height: 32px;\n",
              "    padding: 0;\n",
              "    width: 32px;\n",
              "  }\n",
              "\n",
              "  .colab-df-quickchart:hover {\n",
              "    background-color: var(--hover-bg-color);\n",
              "    box-shadow: 0 1px 2px rgba(60, 64, 67, 0.3), 0 1px 3px 1px rgba(60, 64, 67, 0.15);\n",
              "    fill: var(--button-hover-fill-color);\n",
              "  }\n",
              "\n",
              "  .colab-df-quickchart-complete:disabled,\n",
              "  .colab-df-quickchart-complete:disabled:hover {\n",
              "    background-color: var(--disabled-bg-color);\n",
              "    fill: var(--disabled-fill-color);\n",
              "    box-shadow: none;\n",
              "  }\n",
              "\n",
              "  .colab-df-spinner {\n",
              "    border: 2px solid var(--fill-color);\n",
              "    border-color: transparent;\n",
              "    border-bottom-color: var(--fill-color);\n",
              "    animation:\n",
              "      spin 1s steps(1) infinite;\n",
              "  }\n",
              "\n",
              "  @keyframes spin {\n",
              "    0% {\n",
              "      border-color: transparent;\n",
              "      border-bottom-color: var(--fill-color);\n",
              "      border-left-color: var(--fill-color);\n",
              "    }\n",
              "    20% {\n",
              "      border-color: transparent;\n",
              "      border-left-color: var(--fill-color);\n",
              "      border-top-color: var(--fill-color);\n",
              "    }\n",
              "    30% {\n",
              "      border-color: transparent;\n",
              "      border-left-color: var(--fill-color);\n",
              "      border-top-color: var(--fill-color);\n",
              "      border-right-color: var(--fill-color);\n",
              "    }\n",
              "    40% {\n",
              "      border-color: transparent;\n",
              "      border-right-color: var(--fill-color);\n",
              "      border-top-color: var(--fill-color);\n",
              "    }\n",
              "    60% {\n",
              "      border-color: transparent;\n",
              "      border-right-color: var(--fill-color);\n",
              "    }\n",
              "    80% {\n",
              "      border-color: transparent;\n",
              "      border-right-color: var(--fill-color);\n",
              "      border-bottom-color: var(--fill-color);\n",
              "    }\n",
              "    90% {\n",
              "      border-color: transparent;\n",
              "      border-bottom-color: var(--fill-color);\n",
              "    }\n",
              "  }\n",
              "</style>\n",
              "\n",
              "  <script>\n",
              "    async function quickchart(key) {\n",
              "      const quickchartButtonEl =\n",
              "        document.querySelector('#' + key + ' button');\n",
              "      quickchartButtonEl.disabled = true;  // To prevent multiple clicks.\n",
              "      quickchartButtonEl.classList.add('colab-df-spinner');\n",
              "      try {\n",
              "        const charts = await google.colab.kernel.invokeFunction(\n",
              "            'suggestCharts', [key], {});\n",
              "      } catch (error) {\n",
              "        console.error('Error during call to suggestCharts:', error);\n",
              "      }\n",
              "      quickchartButtonEl.classList.remove('colab-df-spinner');\n",
              "      quickchartButtonEl.classList.add('colab-df-quickchart-complete');\n",
              "    }\n",
              "    (() => {\n",
              "      let quickchartButtonEl =\n",
              "        document.querySelector('#df-43bdc799-6ae3-4337-b9cc-e7e2a7d929af button');\n",
              "      quickchartButtonEl.style.display =\n",
              "        google.colab.kernel.accessAllowed ? 'block' : 'none';\n",
              "    })();\n",
              "  </script>\n",
              "</div>\n",
              "    </div>\n",
              "  </div>\n"
            ]
          },
          "metadata": {},
          "execution_count": 17
        }
      ]
    },
    {
      "cell_type": "markdown",
      "source": [
        "# Method 2-- LSTM Gated Recurrent Unit\n",
        "\n"
      ],
      "metadata": {
        "id": "WLrxeeJtMwEV"
      }
    },
    {
      "cell_type": "code",
      "source": [
        "import tensorflow as tf\n",
        "from tensorflow.keras.models import Sequential\n",
        "from tensorflow.keras.layers import GRU\n",
        "\n",
        "model_gru = Sequential()\n",
        "model_gru.add(GRU(10,return_sequences=True, input_shape= (X_train.shape[1], 1)))\n",
        "model_gru.add(Dense(1))\n",
        "\n",
        "# Compile the GRU model\n",
        "model_gru.compile(optimizer='adam', loss='mse')\n",
        "\n",
        "# Train the GRU model on the data\n",
        "model_gru.fit(X_train, y_train, batch_size=1, epochs=2)\n",
        "\n",
        "print(\"\\nGRU Model Summary:\")\n",
        "model_gru.summary()\n"
      ],
      "metadata": {
        "id": "Y5VZmUY1RA6K",
        "colab": {
          "base_uri": "https://localhost:8080/"
        },
        "outputId": "e285f808-79df-41fa-ed41-f15acdd8ed79"
      },
      "execution_count": 18,
      "outputs": [
        {
          "output_type": "stream",
          "name": "stdout",
          "text": [
            "Epoch 1/2\n",
            "1006/1006 [==============================] - 6s 4ms/step - loss: 19900124722792235008.0000\n",
            "Epoch 2/2\n",
            "1006/1006 [==============================] - 5s 5ms/step - loss: 19900135717908512768.0000\n",
            "\n",
            "GRU Model Summary:\n",
            "Model: \"sequential_1\"\n",
            "_________________________________________________________________\n",
            " Layer (type)                Output Shape              Param #   \n",
            "=================================================================\n",
            " gru (GRU)                   (None, 6, 10)             390       \n",
            "                                                                 \n",
            " dense_2 (Dense)             (None, 6, 1)              11        \n",
            "                                                                 \n",
            "=================================================================\n",
            "Total params: 401 (1.57 KB)\n",
            "Trainable params: 401 (1.57 KB)\n",
            "Non-trainable params: 0 (0.00 Byte)\n",
            "_________________________________________________________________\n"
          ]
        }
      ]
    },
    {
      "cell_type": "code",
      "source": [
        "predictions_gru = model_gru.predict(X_test)\n",
        "\n",
        "predictions_gru_re = predictions_gru.reshape(-1, 1)\n",
        "predictions_df_gru = pd.DataFrame(predictions_gru_re)\n",
        "\n",
        "predictions_df_gru.to_csv('Assignment_9_predictions_gru.csv', index=False)"
      ],
      "metadata": {
        "id": "enpb1v7NRArj",
        "colab": {
          "base_uri": "https://localhost:8080/"
        },
        "outputId": "c70f2793-76a3-4b34-9357-e558a9b979b0"
      },
      "execution_count": 19,
      "outputs": [
        {
          "output_type": "stream",
          "name": "stdout",
          "text": [
            "8/8 [==============================] - 1s 4ms/step\n"
          ]
        }
      ]
    },
    {
      "cell_type": "markdown",
      "source": [
        "# Method 3-- LSTM with attention\n"
      ],
      "metadata": {
        "id": "MxmFG3BVBFWG"
      }
    },
    {
      "cell_type": "code",
      "source": [
        "from tensorflow.keras.layers import Layer, LSTM\n",
        "\n",
        "class MultiplicativeLSTM(Layer):\n",
        "    def __init__(self, units, **kwargs):\n",
        "        super(MultiplicativeLSTM, self).__init__(**kwargs)\n",
        "        self.units = units\n",
        "\n",
        "    def build(self, input_shape):\n",
        "        self.lstm = LSTM(self.units, return_sequences=True, return_state=True)\n",
        "        super(MultiplicativeLSTM, self).build(input_shape)\n",
        "\n",
        "    def call(self, inputs):\n",
        "        input, initial_state = inputs\n",
        "        lstm_output, state_h, state_c = self.lstm(input, initial_state=initial_state)\n",
        "\n",
        "        # Element-wise multiplication between the input and LSTM output\n",
        "        multiplicative_output = input * lstm_output\n",
        "\n",
        "        return multiplicative_output, [state_h, state_c]\n",
        "\n",
        "    def compute_output_shape(self, input_shape):\n",
        "        return (input_shape[0], input_shape[1], self.units)\n"
      ],
      "metadata": {
        "id": "g4E-1udURAlN"
      },
      "execution_count": 28,
      "outputs": []
    },
    {
      "cell_type": "code",
      "source": [
        "X_train.shape"
      ],
      "metadata": {
        "colab": {
          "base_uri": "https://localhost:8080/"
        },
        "id": "w3XQyWAFINF9",
        "outputId": "44913893-c611-4b6f-ab57-ed06c59da35c"
      },
      "execution_count": 21,
      "outputs": [
        {
          "output_type": "execute_result",
          "data": {
            "text/plain": [
              "(1006, 6)"
            ]
          },
          "metadata": {},
          "execution_count": 21
        }
      ]
    },
    {
      "cell_type": "code",
      "source": [
        "import tensorflow as tf\n",
        "from tensorflow.keras.layers import Layer, LSTM, Input, Multiply\n",
        "from tensorflow.keras.models import Model\n",
        "\n",
        "class MultiplicativeLSTM(Layer):\n",
        "    def __init__(self, units, **kwargs):\n",
        "        super(MultiplicativeLSTM, self).__init__(**kwargs)\n",
        "        self.units = units\n",
        "\n",
        "    def build(self, input_shape):\n",
        "        self.lstm = LSTM(self.units, return_sequences=True, return_state=True)\n",
        "        super(MultiplicativeLSTM, self).build(input_shape)\n",
        "\n",
        "    def call(self, inputs):\n",
        "        input_seq, initial_state = inputs\n",
        "        lstm_output, state_h, state_c = self.lstm(input_seq, initial_state=initial_state)\n",
        "\n",
        "        # Implement the multiplicative interaction (element-wise multiplication)\n",
        "        multiplicative_output = Multiply()([input_seq, lstm_output])\n",
        "\n",
        "        return multiplicative_output, [state_h, state_c]\n",
        "\n",
        "    def compute_output_shape(self, input_shape):\n",
        "        return (input_shape[0][0], input_shape[0][1], self.units)\n"
      ],
      "metadata": {
        "id": "wQaztTW2RAc3"
      },
      "execution_count": 22,
      "outputs": []
    },
    {
      "cell_type": "code",
      "source": [
        "input_seq_length = 1006  # Length of your input sequence\n",
        "input_dim = 6  # Dimensionality of input data (per time step)\n",
        "hidden_units = 6 # Number of LSTM units\n",
        "\n",
        "# Define input tensors with the correct shape\n",
        "input_seq = Input(shape=(input_seq_length, input_dim))\n",
        "initial_state = [Input(shape=(hidden_units,)), Input(shape=(hidden_units,))]\n",
        "\n",
        "# Create a Multiplicative LSTM layer\n",
        "multiplicative_lstm = MultiplicativeLSTM(hidden_units)([input_seq, initial_state])\n",
        "\n",
        "# Create a model\n",
        "model_attention = Model(inputs=[input_seq, initial_state], outputs=multiplicative_lstm)\n",
        "\n",
        "# Compile the model and train it as needed\n",
        "model.compile(optimizer='adam', loss='mean_squared_error')"
      ],
      "metadata": {
        "id": "GersnoeFR5au"
      },
      "execution_count": 23,
      "outputs": []
    },
    {
      "cell_type": "code",
      "source": [
        "print(\"\\nModel with Attention Summary:\")\n",
        "model_attention.summary()"
      ],
      "metadata": {
        "id": "LMKQuC-jRAC4",
        "colab": {
          "base_uri": "https://localhost:8080/"
        },
        "outputId": "714b159d-0e4a-40a6-9ff6-d73a2c579797"
      },
      "execution_count": 24,
      "outputs": [
        {
          "output_type": "stream",
          "name": "stdout",
          "text": [
            "\n",
            "Model with Attention Summary:\n",
            "Model: \"model\"\n",
            "__________________________________________________________________________________________________\n",
            " Layer (type)                Output Shape                 Param #   Connected to                  \n",
            "==================================================================================================\n",
            " input_1 (InputLayer)        [(None, 1006, 6)]            0         []                            \n",
            "                                                                                                  \n",
            " input_2 (InputLayer)        [(None, 6)]                  0         []                            \n",
            "                                                                                                  \n",
            " input_3 (InputLayer)        [(None, 6)]                  0         []                            \n",
            "                                                                                                  \n",
            " multiplicative_lstm (Multi  ((None, 1006, 6),            312       ['input_1[0][0]',             \n",
            " plicativeLSTM)               [(None, 6),                            'input_2[0][0]',             \n",
            "                              (None, 6)])                            'input_3[0][0]']             \n",
            "                                                                                                  \n",
            "==================================================================================================\n",
            "Total params: 312 (1.22 KB)\n",
            "Trainable params: 312 (1.22 KB)\n",
            "Non-trainable params: 0 (0.00 Byte)\n",
            "__________________________________________________________________________________________________\n"
          ]
        }
      ]
    },
    {
      "cell_type": "code",
      "source": [
        "X_test.shape"
      ],
      "metadata": {
        "colab": {
          "base_uri": "https://localhost:8080/"
        },
        "id": "qjTOvnljxV31",
        "outputId": "851e01fd-6589-42d2-d6a1-ddb0bb188223"
      },
      "execution_count": 25,
      "outputs": [
        {
          "output_type": "execute_result",
          "data": {
            "text/plain": [
              "(252, 6)"
            ]
          },
          "metadata": {},
          "execution_count": 25
        }
      ]
    }
  ]
}